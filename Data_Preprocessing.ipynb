{
  "nbformat": 4,
  "nbformat_minor": 0,
  "metadata": {
    "colab": {
      "provenance": []
    },
    "kernelspec": {
      "name": "python3",
      "display_name": "Python 3"
    },
    "language_info": {
      "name": "python"
    }
  },
  "cells": [
    {
      "cell_type": "code",
      "execution_count": null,
      "metadata": {
        "id": "tzdx6casVCFf"
      },
      "outputs": [],
      "source": [
        "import spacy\n",
        "from spacy.tokenizer import Tokenizer"
      ]
    },
    {
      "cell_type": "code",
      "source": [
        "# Download the 'en_core_web_lg' model\n",
        "!python -m spacy download en_core_web_lg\n",
        "\n",
        "# Load the model\n",
        "nlp = spacy.load('en_core_web_lg')\n",
        "tokenizer = Tokenizer(nlp.vocab)\n"
      ],
      "metadata": {
        "colab": {
          "base_uri": "https://localhost:8080/"
        },
        "id": "ELqRfBsMVamc",
        "outputId": "79cb1cc2-d9eb-4e85-cd2a-5abb9a587470"
      },
      "execution_count": null,
      "outputs": [
        {
          "output_type": "stream",
          "name": "stdout",
          "text": [
            "2023-11-16 07:03:30.164550: E tensorflow/compiler/xla/stream_executor/cuda/cuda_dnn.cc:9342] Unable to register cuDNN factory: Attempting to register factory for plugin cuDNN when one has already been registered\n",
            "2023-11-16 07:03:30.164601: E tensorflow/compiler/xla/stream_executor/cuda/cuda_fft.cc:609] Unable to register cuFFT factory: Attempting to register factory for plugin cuFFT when one has already been registered\n",
            "2023-11-16 07:03:30.164624: E tensorflow/compiler/xla/stream_executor/cuda/cuda_blas.cc:1518] Unable to register cuBLAS factory: Attempting to register factory for plugin cuBLAS when one has already been registered\n",
            "2023-11-16 07:03:31.161193: W tensorflow/compiler/tf2tensorrt/utils/py_utils.cc:38] TF-TRT Warning: Could not find TensorRT\n",
            "Collecting en-core-web-lg==3.6.0\n",
            "  Downloading https://github.com/explosion/spacy-models/releases/download/en_core_web_lg-3.6.0/en_core_web_lg-3.6.0-py3-none-any.whl (587.7 MB)\n",
            "\u001b[2K     \u001b[90m━━━━━━━━━━━━━━━━━━━━━━━━━━━━━━━━━━━━━━━━\u001b[0m \u001b[32m587.7/587.7 MB\u001b[0m \u001b[31m2.7 MB/s\u001b[0m eta \u001b[36m0:00:00\u001b[0m\n",
            "\u001b[?25hRequirement already satisfied: spacy<3.7.0,>=3.6.0 in /usr/local/lib/python3.10/dist-packages (from en-core-web-lg==3.6.0) (3.6.1)\n",
            "Requirement already satisfied: spacy-legacy<3.1.0,>=3.0.11 in /usr/local/lib/python3.10/dist-packages (from spacy<3.7.0,>=3.6.0->en-core-web-lg==3.6.0) (3.0.12)\n",
            "Requirement already satisfied: spacy-loggers<2.0.0,>=1.0.0 in /usr/local/lib/python3.10/dist-packages (from spacy<3.7.0,>=3.6.0->en-core-web-lg==3.6.0) (1.0.5)\n",
            "Requirement already satisfied: murmurhash<1.1.0,>=0.28.0 in /usr/local/lib/python3.10/dist-packages (from spacy<3.7.0,>=3.6.0->en-core-web-lg==3.6.0) (1.0.10)\n",
            "Requirement already satisfied: cymem<2.1.0,>=2.0.2 in /usr/local/lib/python3.10/dist-packages (from spacy<3.7.0,>=3.6.0->en-core-web-lg==3.6.0) (2.0.8)\n",
            "Requirement already satisfied: preshed<3.1.0,>=3.0.2 in /usr/local/lib/python3.10/dist-packages (from spacy<3.7.0,>=3.6.0->en-core-web-lg==3.6.0) (3.0.9)\n",
            "Requirement already satisfied: thinc<8.2.0,>=8.1.8 in /usr/local/lib/python3.10/dist-packages (from spacy<3.7.0,>=3.6.0->en-core-web-lg==3.6.0) (8.1.12)\n",
            "Requirement already satisfied: wasabi<1.2.0,>=0.9.1 in /usr/local/lib/python3.10/dist-packages (from spacy<3.7.0,>=3.6.0->en-core-web-lg==3.6.0) (1.1.2)\n",
            "Requirement already satisfied: srsly<3.0.0,>=2.4.3 in /usr/local/lib/python3.10/dist-packages (from spacy<3.7.0,>=3.6.0->en-core-web-lg==3.6.0) (2.4.8)\n",
            "Requirement already satisfied: catalogue<2.1.0,>=2.0.6 in /usr/local/lib/python3.10/dist-packages (from spacy<3.7.0,>=3.6.0->en-core-web-lg==3.6.0) (2.0.10)\n",
            "Requirement already satisfied: typer<0.10.0,>=0.3.0 in /usr/local/lib/python3.10/dist-packages (from spacy<3.7.0,>=3.6.0->en-core-web-lg==3.6.0) (0.9.0)\n",
            "Requirement already satisfied: pathy>=0.10.0 in /usr/local/lib/python3.10/dist-packages (from spacy<3.7.0,>=3.6.0->en-core-web-lg==3.6.0) (0.10.3)\n",
            "Requirement already satisfied: smart-open<7.0.0,>=5.2.1 in /usr/local/lib/python3.10/dist-packages (from spacy<3.7.0,>=3.6.0->en-core-web-lg==3.6.0) (6.4.0)\n",
            "Requirement already satisfied: tqdm<5.0.0,>=4.38.0 in /usr/local/lib/python3.10/dist-packages (from spacy<3.7.0,>=3.6.0->en-core-web-lg==3.6.0) (4.66.1)\n",
            "Requirement already satisfied: numpy>=1.15.0 in /usr/local/lib/python3.10/dist-packages (from spacy<3.7.0,>=3.6.0->en-core-web-lg==3.6.0) (1.23.5)\n",
            "Requirement already satisfied: requests<3.0.0,>=2.13.0 in /usr/local/lib/python3.10/dist-packages (from spacy<3.7.0,>=3.6.0->en-core-web-lg==3.6.0) (2.31.0)\n",
            "Requirement already satisfied: pydantic!=1.8,!=1.8.1,<3.0.0,>=1.7.4 in /usr/local/lib/python3.10/dist-packages (from spacy<3.7.0,>=3.6.0->en-core-web-lg==3.6.0) (1.10.13)\n",
            "Requirement already satisfied: jinja2 in /usr/local/lib/python3.10/dist-packages (from spacy<3.7.0,>=3.6.0->en-core-web-lg==3.6.0) (3.1.2)\n",
            "Requirement already satisfied: setuptools in /usr/local/lib/python3.10/dist-packages (from spacy<3.7.0,>=3.6.0->en-core-web-lg==3.6.0) (67.7.2)\n",
            "Requirement already satisfied: packaging>=20.0 in /usr/local/lib/python3.10/dist-packages (from spacy<3.7.0,>=3.6.0->en-core-web-lg==3.6.0) (23.2)\n",
            "Requirement already satisfied: langcodes<4.0.0,>=3.2.0 in /usr/local/lib/python3.10/dist-packages (from spacy<3.7.0,>=3.6.0->en-core-web-lg==3.6.0) (3.3.0)\n",
            "Requirement already satisfied: typing-extensions>=4.2.0 in /usr/local/lib/python3.10/dist-packages (from pydantic!=1.8,!=1.8.1,<3.0.0,>=1.7.4->spacy<3.7.0,>=3.6.0->en-core-web-lg==3.6.0) (4.5.0)\n",
            "Requirement already satisfied: charset-normalizer<4,>=2 in /usr/local/lib/python3.10/dist-packages (from requests<3.0.0,>=2.13.0->spacy<3.7.0,>=3.6.0->en-core-web-lg==3.6.0) (3.3.2)\n",
            "Requirement already satisfied: idna<4,>=2.5 in /usr/local/lib/python3.10/dist-packages (from requests<3.0.0,>=2.13.0->spacy<3.7.0,>=3.6.0->en-core-web-lg==3.6.0) (3.4)\n",
            "Requirement already satisfied: urllib3<3,>=1.21.1 in /usr/local/lib/python3.10/dist-packages (from requests<3.0.0,>=2.13.0->spacy<3.7.0,>=3.6.0->en-core-web-lg==3.6.0) (2.0.7)\n",
            "Requirement already satisfied: certifi>=2017.4.17 in /usr/local/lib/python3.10/dist-packages (from requests<3.0.0,>=2.13.0->spacy<3.7.0,>=3.6.0->en-core-web-lg==3.6.0) (2023.7.22)\n",
            "Requirement already satisfied: blis<0.8.0,>=0.7.8 in /usr/local/lib/python3.10/dist-packages (from thinc<8.2.0,>=8.1.8->spacy<3.7.0,>=3.6.0->en-core-web-lg==3.6.0) (0.7.11)\n",
            "Requirement already satisfied: confection<1.0.0,>=0.0.1 in /usr/local/lib/python3.10/dist-packages (from thinc<8.2.0,>=8.1.8->spacy<3.7.0,>=3.6.0->en-core-web-lg==3.6.0) (0.1.3)\n",
            "Requirement already satisfied: click<9.0.0,>=7.1.1 in /usr/local/lib/python3.10/dist-packages (from typer<0.10.0,>=0.3.0->spacy<3.7.0,>=3.6.0->en-core-web-lg==3.6.0) (8.1.7)\n",
            "Requirement already satisfied: MarkupSafe>=2.0 in /usr/local/lib/python3.10/dist-packages (from jinja2->spacy<3.7.0,>=3.6.0->en-core-web-lg==3.6.0) (2.1.3)\n",
            "Installing collected packages: en-core-web-lg\n",
            "Successfully installed en-core-web-lg-3.6.0\n",
            "\u001b[38;5;2m✔ Download and installation successful\u001b[0m\n",
            "You can now load the package via spacy.load('en_core_web_lg')\n"
          ]
        }
      ]
    },
    {
      "cell_type": "code",
      "source": [
        "import numpy as np\n",
        "import pandas as pd\n",
        "import tensorflow as tf"
      ],
      "metadata": {
        "id": "ePQUD5hrVa6g"
      },
      "execution_count": null,
      "outputs": []
    },
    {
      "cell_type": "code",
      "source": [
        "with open(\"/content/train.tsv\", 'r', encoding='utf-8') as f:\n",
        "    train = f.readlines()\n",
        "\n",
        "with open(\"/content/dev.tsv\", 'r', encoding='utf-8') as f:\n",
        "    dev = f.readlines()\n",
        "\n",
        "with open(\"/content/test.tsv\", 'r', encoding='utf-8') as f:\n",
        "    test = f.readlines()"
      ],
      "metadata": {
        "id": "I0O1ZCaHWFmc"
      },
      "execution_count": null,
      "outputs": []
    },
    {
      "cell_type": "code",
      "source": [
        "def load(file):\n",
        "  Quality, ID1, ID2, string1, string2 = [], [], [], [], []\n",
        "  for i in range (1, len(file)):\n",
        "    col = file[i].split('\\t')\n",
        "    Quality.append(col[0])\n",
        "\n",
        "    ID1.append(col[1])\n",
        "    ID2.append(col[2])\n",
        "\n",
        "    string1.append(col[3])\n",
        "    string2.append(col[4])\n",
        "\n",
        "  df = {'quality': Quality, 'id1': ID1, 'id2': ID2, 'sentence1': string1, 'sentence2': string2}\n",
        "  return df"
      ],
      "metadata": {
        "id": "anlmYVbvWNst"
      },
      "execution_count": null,
      "outputs": []
    },
    {
      "cell_type": "code",
      "source": [
        "df = load(train)\n",
        "train_df = pd.DataFrame(df)\n",
        "\n",
        "df = load(dev)\n",
        "dev_df = pd.DataFrame(df)\n",
        "\n",
        "df = load(test)\n",
        "test_df = pd.DataFrame(df)"
      ],
      "metadata": {
        "id": "nKwbRlPpWQrz"
      },
      "execution_count": null,
      "outputs": []
    },
    {
      "cell_type": "code",
      "source": [
        "print(\"Train Target Distribution\")\n",
        "print(train_df.quality.value_counts())"
      ],
      "metadata": {
        "colab": {
          "base_uri": "https://localhost:8080/"
        },
        "id": "1RwNjcegAzqC",
        "outputId": "a25c799b-0760-4ed5-c678-5ddff9e78441"
      },
      "execution_count": null,
      "outputs": [
        {
          "output_type": "stream",
          "name": "stdout",
          "text": [
            "Train Target Distribution\n",
            "1    2407\n",
            "0    1169\n",
            "Name: quality, dtype: int64\n"
          ]
        }
      ]
    },
    {
      "cell_type": "code",
      "source": [
        "print(\"Val Target Distribution\")\n",
        "print(dev_df.quality.value_counts())"
      ],
      "metadata": {
        "colab": {
          "base_uri": "https://localhost:8080/"
        },
        "id": "fQEdMxjfA122",
        "outputId": "55252380-2338-4189-8ed8-2f27a4aae90e"
      },
      "execution_count": null,
      "outputs": [
        {
          "output_type": "stream",
          "name": "stdout",
          "text": [
            "Val Target Distribution\n",
            "1    346\n",
            "0    154\n",
            "Name: quality, dtype: int64\n"
          ]
        }
      ]
    },
    {
      "cell_type": "code",
      "source": [
        "print(\"Test Target Distribution\")\n",
        "print(test_df.quality.value_counts())"
      ],
      "metadata": {
        "colab": {
          "base_uri": "https://localhost:8080/"
        },
        "id": "wSEyD8tXA603",
        "outputId": "0f9f8fe4-7035-4965-f972-689d4953a20e"
      },
      "execution_count": null,
      "outputs": [
        {
          "output_type": "stream",
          "name": "stdout",
          "text": [
            "Test Target Distribution\n",
            "1    1147\n",
            "0     578\n",
            "Name: quality, dtype: int64\n"
          ]
        }
      ]
    },
    {
      "cell_type": "markdown",
      "source": [
        "# **Tokenization**"
      ],
      "metadata": {
        "id": "Uwpu6JD_tyAO"
      }
    },
    {
      "cell_type": "code",
      "source": [
        "print('tokenize sentence1 and sentence2...')\n",
        "train_df['tokenized_sentence1'] = train_df['sentence1'].apply(lambda x: [ token.text for token in tokenizer(x)])\n",
        "train_df['tokenized_sentence2'] = train_df['sentence2'].apply(lambda x: [ token.text for token in tokenizer(x)])\n",
        "dev_df['tokenized_sentence1'] = dev_df['sentence1'].apply(lambda x: [ token.text for token in tokenizer(x)])\n",
        "dev_df['tokenized_sentence2'] = dev_df['sentence2'].apply(lambda x: [ token.text for token in tokenizer(x)])\n",
        "test_df['tokenized_sentence1'] = test_df['sentence1'].apply(lambda x: [ token.text for token in tokenizer(x)])\n",
        "test_df['tokenized_sentence2'] = test_df['sentence2'].apply(lambda x: [ token.text for token in tokenizer(x)])"
      ],
      "metadata": {
        "colab": {
          "base_uri": "https://localhost:8080/"
        },
        "id": "NWd8PSWbWSoZ",
        "outputId": "e8a50547-7375-4bad-b592-c8d4164a5904"
      },
      "execution_count": null,
      "outputs": [
        {
          "output_type": "stream",
          "name": "stdout",
          "text": [
            "tokenize sentence1 and sentence2...\n"
          ]
        }
      ]
    },
    {
      "cell_type": "code",
      "source": [
        "train_df.head(5)"
      ],
      "metadata": {
        "colab": {
          "base_uri": "https://localhost:8080/",
          "height": 293
        },
        "id": "tHgWu3B4WawX",
        "outputId": "68488c16-1c67-4070-f0c0-c9357a640fd4"
      },
      "execution_count": null,
      "outputs": [
        {
          "output_type": "execute_result",
          "data": {
            "text/plain": [
              "  quality      id1      id2  \\\n",
              "0       1   702876   702977   \n",
              "1       0  2108705  2108831   \n",
              "2       1  1330381  1330521   \n",
              "3       0  3344667  3344648   \n",
              "4       1  1236820  1236712   \n",
              "\n",
              "                                           sentence1  \\\n",
              "0  Amrozi accused his brother, whom he called \"th...   \n",
              "1  Yucaipa owned Dominick's before selling the ch...   \n",
              "2  They had published an advertisement on the Int...   \n",
              "3  Around 0335 GMT, Tab shares were up 19 cents, ...   \n",
              "4  The stock rose $2.11, or about 11 percent, to ...   \n",
              "\n",
              "                                           sentence2  \\\n",
              "0  Referring to him as only \"the witness\", Amrozi...   \n",
              "1  Yucaipa bought Dominick's in 1995 for $693 mil...   \n",
              "2  On June 10, the ship's owners had published an...   \n",
              "3  Tab shares jumped 20 cents, or 4.6%, to set a ...   \n",
              "4  PG&E Corp. shares jumped $1.63 or 8 percent to...   \n",
              "\n",
              "                                 tokenized_sentence1  \\\n",
              "0  [Amrozi, accused, his, brother,, whom, he, cal...   \n",
              "1  [Yucaipa, owned, Dominick's, before, selling, ...   \n",
              "2  [They, had, published, an, advertisement, on, ...   \n",
              "3  [Around, 0335, GMT,, Tab, shares, were, up, 19...   \n",
              "4  [The, stock, rose, $2.11,, or, about, 11, perc...   \n",
              "\n",
              "                                 tokenized_sentence2  \n",
              "0  [Referring, to, him, as, only, \"the, witness\",...  \n",
              "1  [Yucaipa, bought, Dominick's, in, 1995, for, $...  \n",
              "2  [On, June, 10,, the, ship's, owners, had, publ...  \n",
              "3  [Tab, shares, jumped, 20, cents,, or, 4.6%,, t...  \n",
              "4  [PG&E, Corp., shares, jumped, $1.63, or, 8, pe...  "
            ],
            "text/html": [
              "\n",
              "  <div id=\"df-0ccea873-76b1-4994-a739-ca1356885345\" class=\"colab-df-container\">\n",
              "    <div>\n",
              "<style scoped>\n",
              "    .dataframe tbody tr th:only-of-type {\n",
              "        vertical-align: middle;\n",
              "    }\n",
              "\n",
              "    .dataframe tbody tr th {\n",
              "        vertical-align: top;\n",
              "    }\n",
              "\n",
              "    .dataframe thead th {\n",
              "        text-align: right;\n",
              "    }\n",
              "</style>\n",
              "<table border=\"1\" class=\"dataframe\">\n",
              "  <thead>\n",
              "    <tr style=\"text-align: right;\">\n",
              "      <th></th>\n",
              "      <th>quality</th>\n",
              "      <th>id1</th>\n",
              "      <th>id2</th>\n",
              "      <th>sentence1</th>\n",
              "      <th>sentence2</th>\n",
              "      <th>tokenized_sentence1</th>\n",
              "      <th>tokenized_sentence2</th>\n",
              "    </tr>\n",
              "  </thead>\n",
              "  <tbody>\n",
              "    <tr>\n",
              "      <th>0</th>\n",
              "      <td>1</td>\n",
              "      <td>702876</td>\n",
              "      <td>702977</td>\n",
              "      <td>Amrozi accused his brother, whom he called \"th...</td>\n",
              "      <td>Referring to him as only \"the witness\", Amrozi...</td>\n",
              "      <td>[Amrozi, accused, his, brother,, whom, he, cal...</td>\n",
              "      <td>[Referring, to, him, as, only, \"the, witness\",...</td>\n",
              "    </tr>\n",
              "    <tr>\n",
              "      <th>1</th>\n",
              "      <td>0</td>\n",
              "      <td>2108705</td>\n",
              "      <td>2108831</td>\n",
              "      <td>Yucaipa owned Dominick's before selling the ch...</td>\n",
              "      <td>Yucaipa bought Dominick's in 1995 for $693 mil...</td>\n",
              "      <td>[Yucaipa, owned, Dominick's, before, selling, ...</td>\n",
              "      <td>[Yucaipa, bought, Dominick's, in, 1995, for, $...</td>\n",
              "    </tr>\n",
              "    <tr>\n",
              "      <th>2</th>\n",
              "      <td>1</td>\n",
              "      <td>1330381</td>\n",
              "      <td>1330521</td>\n",
              "      <td>They had published an advertisement on the Int...</td>\n",
              "      <td>On June 10, the ship's owners had published an...</td>\n",
              "      <td>[They, had, published, an, advertisement, on, ...</td>\n",
              "      <td>[On, June, 10,, the, ship's, owners, had, publ...</td>\n",
              "    </tr>\n",
              "    <tr>\n",
              "      <th>3</th>\n",
              "      <td>0</td>\n",
              "      <td>3344667</td>\n",
              "      <td>3344648</td>\n",
              "      <td>Around 0335 GMT, Tab shares were up 19 cents, ...</td>\n",
              "      <td>Tab shares jumped 20 cents, or 4.6%, to set a ...</td>\n",
              "      <td>[Around, 0335, GMT,, Tab, shares, were, up, 19...</td>\n",
              "      <td>[Tab, shares, jumped, 20, cents,, or, 4.6%,, t...</td>\n",
              "    </tr>\n",
              "    <tr>\n",
              "      <th>4</th>\n",
              "      <td>1</td>\n",
              "      <td>1236820</td>\n",
              "      <td>1236712</td>\n",
              "      <td>The stock rose $2.11, or about 11 percent, to ...</td>\n",
              "      <td>PG&amp;E Corp. shares jumped $1.63 or 8 percent to...</td>\n",
              "      <td>[The, stock, rose, $2.11,, or, about, 11, perc...</td>\n",
              "      <td>[PG&amp;E, Corp., shares, jumped, $1.63, or, 8, pe...</td>\n",
              "    </tr>\n",
              "  </tbody>\n",
              "</table>\n",
              "</div>\n",
              "    <div class=\"colab-df-buttons\">\n",
              "\n",
              "  <div class=\"colab-df-container\">\n",
              "    <button class=\"colab-df-convert\" onclick=\"convertToInteractive('df-0ccea873-76b1-4994-a739-ca1356885345')\"\n",
              "            title=\"Convert this dataframe to an interactive table.\"\n",
              "            style=\"display:none;\">\n",
              "\n",
              "  <svg xmlns=\"http://www.w3.org/2000/svg\" height=\"24px\" viewBox=\"0 -960 960 960\">\n",
              "    <path d=\"M120-120v-720h720v720H120Zm60-500h600v-160H180v160Zm220 220h160v-160H400v160Zm0 220h160v-160H400v160ZM180-400h160v-160H180v160Zm440 0h160v-160H620v160ZM180-180h160v-160H180v160Zm440 0h160v-160H620v160Z\"/>\n",
              "  </svg>\n",
              "    </button>\n",
              "\n",
              "  <style>\n",
              "    .colab-df-container {\n",
              "      display:flex;\n",
              "      gap: 12px;\n",
              "    }\n",
              "\n",
              "    .colab-df-convert {\n",
              "      background-color: #E8F0FE;\n",
              "      border: none;\n",
              "      border-radius: 50%;\n",
              "      cursor: pointer;\n",
              "      display: none;\n",
              "      fill: #1967D2;\n",
              "      height: 32px;\n",
              "      padding: 0 0 0 0;\n",
              "      width: 32px;\n",
              "    }\n",
              "\n",
              "    .colab-df-convert:hover {\n",
              "      background-color: #E2EBFA;\n",
              "      box-shadow: 0px 1px 2px rgba(60, 64, 67, 0.3), 0px 1px 3px 1px rgba(60, 64, 67, 0.15);\n",
              "      fill: #174EA6;\n",
              "    }\n",
              "\n",
              "    .colab-df-buttons div {\n",
              "      margin-bottom: 4px;\n",
              "    }\n",
              "\n",
              "    [theme=dark] .colab-df-convert {\n",
              "      background-color: #3B4455;\n",
              "      fill: #D2E3FC;\n",
              "    }\n",
              "\n",
              "    [theme=dark] .colab-df-convert:hover {\n",
              "      background-color: #434B5C;\n",
              "      box-shadow: 0px 1px 3px 1px rgba(0, 0, 0, 0.15);\n",
              "      filter: drop-shadow(0px 1px 2px rgba(0, 0, 0, 0.3));\n",
              "      fill: #FFFFFF;\n",
              "    }\n",
              "  </style>\n",
              "\n",
              "    <script>\n",
              "      const buttonEl =\n",
              "        document.querySelector('#df-0ccea873-76b1-4994-a739-ca1356885345 button.colab-df-convert');\n",
              "      buttonEl.style.display =\n",
              "        google.colab.kernel.accessAllowed ? 'block' : 'none';\n",
              "\n",
              "      async function convertToInteractive(key) {\n",
              "        const element = document.querySelector('#df-0ccea873-76b1-4994-a739-ca1356885345');\n",
              "        const dataTable =\n",
              "          await google.colab.kernel.invokeFunction('convertToInteractive',\n",
              "                                                    [key], {});\n",
              "        if (!dataTable) return;\n",
              "\n",
              "        const docLinkHtml = 'Like what you see? Visit the ' +\n",
              "          '<a target=\"_blank\" href=https://colab.research.google.com/notebooks/data_table.ipynb>data table notebook</a>'\n",
              "          + ' to learn more about interactive tables.';\n",
              "        element.innerHTML = '';\n",
              "        dataTable['output_type'] = 'display_data';\n",
              "        await google.colab.output.renderOutput(dataTable, element);\n",
              "        const docLink = document.createElement('div');\n",
              "        docLink.innerHTML = docLinkHtml;\n",
              "        element.appendChild(docLink);\n",
              "      }\n",
              "    </script>\n",
              "  </div>\n",
              "\n",
              "\n",
              "<div id=\"df-4bc263e3-9109-4f78-b537-2de93ec9fe01\">\n",
              "  <button class=\"colab-df-quickchart\" onclick=\"quickchart('df-4bc263e3-9109-4f78-b537-2de93ec9fe01')\"\n",
              "            title=\"Suggest charts\"\n",
              "            style=\"display:none;\">\n",
              "\n",
              "<svg xmlns=\"http://www.w3.org/2000/svg\" height=\"24px\"viewBox=\"0 0 24 24\"\n",
              "     width=\"24px\">\n",
              "    <g>\n",
              "        <path d=\"M19 3H5c-1.1 0-2 .9-2 2v14c0 1.1.9 2 2 2h14c1.1 0 2-.9 2-2V5c0-1.1-.9-2-2-2zM9 17H7v-7h2v7zm4 0h-2V7h2v10zm4 0h-2v-4h2v4z\"/>\n",
              "    </g>\n",
              "</svg>\n",
              "  </button>\n",
              "\n",
              "<style>\n",
              "  .colab-df-quickchart {\n",
              "      --bg-color: #E8F0FE;\n",
              "      --fill-color: #1967D2;\n",
              "      --hover-bg-color: #E2EBFA;\n",
              "      --hover-fill-color: #174EA6;\n",
              "      --disabled-fill-color: #AAA;\n",
              "      --disabled-bg-color: #DDD;\n",
              "  }\n",
              "\n",
              "  [theme=dark] .colab-df-quickchart {\n",
              "      --bg-color: #3B4455;\n",
              "      --fill-color: #D2E3FC;\n",
              "      --hover-bg-color: #434B5C;\n",
              "      --hover-fill-color: #FFFFFF;\n",
              "      --disabled-bg-color: #3B4455;\n",
              "      --disabled-fill-color: #666;\n",
              "  }\n",
              "\n",
              "  .colab-df-quickchart {\n",
              "    background-color: var(--bg-color);\n",
              "    border: none;\n",
              "    border-radius: 50%;\n",
              "    cursor: pointer;\n",
              "    display: none;\n",
              "    fill: var(--fill-color);\n",
              "    height: 32px;\n",
              "    padding: 0;\n",
              "    width: 32px;\n",
              "  }\n",
              "\n",
              "  .colab-df-quickchart:hover {\n",
              "    background-color: var(--hover-bg-color);\n",
              "    box-shadow: 0 1px 2px rgba(60, 64, 67, 0.3), 0 1px 3px 1px rgba(60, 64, 67, 0.15);\n",
              "    fill: var(--button-hover-fill-color);\n",
              "  }\n",
              "\n",
              "  .colab-df-quickchart-complete:disabled,\n",
              "  .colab-df-quickchart-complete:disabled:hover {\n",
              "    background-color: var(--disabled-bg-color);\n",
              "    fill: var(--disabled-fill-color);\n",
              "    box-shadow: none;\n",
              "  }\n",
              "\n",
              "  .colab-df-spinner {\n",
              "    border: 2px solid var(--fill-color);\n",
              "    border-color: transparent;\n",
              "    border-bottom-color: var(--fill-color);\n",
              "    animation:\n",
              "      spin 1s steps(1) infinite;\n",
              "  }\n",
              "\n",
              "  @keyframes spin {\n",
              "    0% {\n",
              "      border-color: transparent;\n",
              "      border-bottom-color: var(--fill-color);\n",
              "      border-left-color: var(--fill-color);\n",
              "    }\n",
              "    20% {\n",
              "      border-color: transparent;\n",
              "      border-left-color: var(--fill-color);\n",
              "      border-top-color: var(--fill-color);\n",
              "    }\n",
              "    30% {\n",
              "      border-color: transparent;\n",
              "      border-left-color: var(--fill-color);\n",
              "      border-top-color: var(--fill-color);\n",
              "      border-right-color: var(--fill-color);\n",
              "    }\n",
              "    40% {\n",
              "      border-color: transparent;\n",
              "      border-right-color: var(--fill-color);\n",
              "      border-top-color: var(--fill-color);\n",
              "    }\n",
              "    60% {\n",
              "      border-color: transparent;\n",
              "      border-right-color: var(--fill-color);\n",
              "    }\n",
              "    80% {\n",
              "      border-color: transparent;\n",
              "      border-right-color: var(--fill-color);\n",
              "      border-bottom-color: var(--fill-color);\n",
              "    }\n",
              "    90% {\n",
              "      border-color: transparent;\n",
              "      border-bottom-color: var(--fill-color);\n",
              "    }\n",
              "  }\n",
              "</style>\n",
              "\n",
              "  <script>\n",
              "    async function quickchart(key) {\n",
              "      const quickchartButtonEl =\n",
              "        document.querySelector('#' + key + ' button');\n",
              "      quickchartButtonEl.disabled = true;  // To prevent multiple clicks.\n",
              "      quickchartButtonEl.classList.add('colab-df-spinner');\n",
              "      try {\n",
              "        const charts = await google.colab.kernel.invokeFunction(\n",
              "            'suggestCharts', [key], {});\n",
              "      } catch (error) {\n",
              "        console.error('Error during call to suggestCharts:', error);\n",
              "      }\n",
              "      quickchartButtonEl.classList.remove('colab-df-spinner');\n",
              "      quickchartButtonEl.classList.add('colab-df-quickchart-complete');\n",
              "    }\n",
              "    (() => {\n",
              "      let quickchartButtonEl =\n",
              "        document.querySelector('#df-4bc263e3-9109-4f78-b537-2de93ec9fe01 button');\n",
              "      quickchartButtonEl.style.display =\n",
              "        google.colab.kernel.accessAllowed ? 'block' : 'none';\n",
              "    })();\n",
              "  </script>\n",
              "</div>\n",
              "    </div>\n",
              "  </div>\n"
            ]
          },
          "metadata": {},
          "execution_count": 8
        }
      ]
    },
    {
      "cell_type": "markdown",
      "source": [
        "# Encoding"
      ],
      "metadata": {
        "id": "swYaRZaTt5-s"
      }
    },
    {
      "cell_type": "code",
      "source": [
        "from gensim.models import KeyedVectors"
      ],
      "metadata": {
        "id": "hMcvf29AW2Qn"
      },
      "execution_count": null,
      "outputs": []
    },
    {
      "cell_type": "code",
      "source": [
        "import nltk\n",
        "nltk.download('stopwords')\n",
        "\n",
        "from nltk.corpus import stopwords"
      ],
      "metadata": {
        "colab": {
          "base_uri": "https://localhost:8080/"
        },
        "id": "9tEYGZOFXUdV",
        "outputId": "3052e751-0f34-4199-bb2d-97a3a0d0d85e"
      },
      "execution_count": null,
      "outputs": [
        {
          "output_type": "stream",
          "name": "stderr",
          "text": [
            "[nltk_data] Downloading package stopwords to /root/nltk_data...\n",
            "[nltk_data]   Unzipping corpora/stopwords.zip.\n"
          ]
        }
      ]
    },
    {
      "cell_type": "code",
      "source": [
        "EMBEDDING_FILE = '/content/drive/MyDrive/ColabNotebooks/GoogleNews-vectors-negative300.bin.gz'"
      ],
      "metadata": {
        "id": "985liufsXW2B"
      },
      "execution_count": null,
      "outputs": []
    },
    {
      "cell_type": "code",
      "source": [
        "word2vec = KeyedVectors.load_word2vec_format(EMBEDDING_FILE, binary=True)"
      ],
      "metadata": {
        "id": "6m3uzxjXXbjE"
      },
      "execution_count": null,
      "outputs": []
    },
    {
      "cell_type": "code",
      "source": [
        "# Create dictionary\n",
        "voc_dict = dict()\n",
        "inverse_vocabulary = ['<none>']\n",
        "stops = set(stopwords.words('english'))"
      ],
      "metadata": {
        "id": "A54dSbwOXt5g"
      },
      "execution_count": null,
      "outputs": []
    },
    {
      "cell_type": "code",
      "source": [
        "for index, row in train_df.iterrows():\n",
        "    for col in ['tokenized_sentence1', 'tokenized_sentence2']:\n",
        "        text_to_list = []\n",
        "\n",
        "        for word in row[col]:\n",
        "\n",
        "            # Remove if word is stopword\n",
        "            if (word in stops) and (word not in word2vec.key_to_index):\n",
        "                continue\n",
        "\n",
        "            # add word to dict if not in dict\n",
        "            if word not in voc_dict:\n",
        "                voc_dict[word] = len(inverse_vocabulary)\n",
        "                text_to_list.append(len(inverse_vocabulary))\n",
        "                inverse_vocabulary.append(word)\n",
        "            else:\n",
        "                text_to_list.append(voc_dict[word])\n",
        "\n",
        "        # replace tokenized sentence with numbers\n",
        "        train_df.at[index, col] = text_to_list\n",
        "\n"
      ],
      "metadata": {
        "id": "2O1bsqHUY3Bt"
      },
      "execution_count": null,
      "outputs": []
    },
    {
      "cell_type": "code",
      "source": [
        "for index, row in dev_df.iterrows():\n",
        "    for col in ['tokenized_sentence1', 'tokenized_sentence2']:\n",
        "        text_to_list = []\n",
        "\n",
        "        for word in row[col]:\n",
        "\n",
        "            # Remove if word is stopword\n",
        "            if (word in stops) and (word not in word2vec.key_to_index):\n",
        "                continue\n",
        "\n",
        "            # add word to dict if not in dict\n",
        "            if word not in voc_dict:\n",
        "                voc_dict[word] = len(inverse_vocabulary)\n",
        "                text_to_list.append(len(inverse_vocabulary))\n",
        "                inverse_vocabulary.append(word)\n",
        "            else:\n",
        "                text_to_list.append(voc_dict[word])\n",
        "\n",
        "        # replace tokenized sentence with numbers\n",
        "        dev_df.at[index, col] = text_to_list\n",
        "\n",
        "for index, row in test_df.iterrows():\n",
        "    for col in ['tokenized_sentence1', 'tokenized_sentence2']:\n",
        "        text_to_list = []\n",
        "\n",
        "        for word in row[col]:\n",
        "\n",
        "            # Remove if word is stopword\n",
        "            if (word in stops) and (word not in word2vec.key_to_index):\n",
        "                continue\n",
        "\n",
        "            # add word to dict if not in dict\n",
        "            if word not in voc_dict:\n",
        "                voc_dict[word] = len(inverse_vocabulary)\n",
        "                text_to_list.append(len(inverse_vocabulary))\n",
        "                inverse_vocabulary.append(word)\n",
        "            else:\n",
        "                text_to_list.append(voc_dict[word])\n",
        "\n",
        "        # replace tokenized sentence with numbers\n",
        "        test_df.at[index, col] = text_to_list\n",
        "\n"
      ],
      "metadata": {
        "id": "j-tebzZCos0S"
      },
      "execution_count": null,
      "outputs": []
    },
    {
      "cell_type": "markdown",
      "source": [
        "# Embedding matrix"
      ],
      "metadata": {
        "id": "N7Cs-4gdt_LQ"
      }
    },
    {
      "cell_type": "code",
      "source": [
        "# embedding matrix\n",
        "np.random.seed(42)\n",
        "embedding_dim = 300\n",
        "\n",
        "# create random value\n",
        "embeddings = 1 * np.random.randn(len(voc_dict) + 1, embedding_dim)\n",
        "embeddings[0] = 0\n",
        "\n",
        "for word, index in voc_dict.items():\n",
        "\n",
        "    # if the word is in word2vec.vocab replace it with the vector of the word\n",
        "    if word in word2vec.key_to_index:\n",
        "        embeddings[index] = word2vec.get_vector(word)"
      ],
      "metadata": {
        "id": "-qMtppQ-kS7i"
      },
      "execution_count": null,
      "outputs": []
    },
    {
      "cell_type": "code",
      "source": [
        "test_df.head(2)"
      ],
      "metadata": {
        "colab": {
          "base_uri": "https://localhost:8080/",
          "height": 147
        },
        "id": "ZA6hnnyWm8Kc",
        "outputId": "856f3b36-6eab-4ba0-8af0-7078c2cd5ce7"
      },
      "execution_count": null,
      "outputs": [
        {
          "output_type": "execute_result",
          "data": {
            "text/plain": [
              "  quality      id1      id2  \\\n",
              "0       1  1089874  1089925   \n",
              "1       1  3019446  3019327   \n",
              "\n",
              "                                           sentence1  \\\n",
              "0  PCCW's chief operating officer, Mike Butcher, ...   \n",
              "1  The world's two largest automakers said their ...   \n",
              "\n",
              "                                           sentence2  \\\n",
              "0  Current Chief Operating Officer Mike Butcher a...   \n",
              "1  Domestic sales at both GM and No. 2 Ford Motor...   \n",
              "\n",
              "                                 tokenized_sentence1  \\\n",
              "0  [22607, 2273, 2809, 5482, 6009, 22608, 7963, 2...   \n",
              "1  [83, 6774, 366, 598, 22614, 166, 203, 146, 132...   \n",
              "\n",
              "                                 tokenized_sentence2  \n",
              "0  [22611, 3187, 2814, 4030, 6009, 22612, 10256, ...  \n",
              "1  [22615, 1327, 71, 1975, 14946, 784, 190, 5604,...  "
            ],
            "text/html": [
              "\n",
              "  <div id=\"df-38528794-8826-4fe2-83a3-c2765509f572\" class=\"colab-df-container\">\n",
              "    <div>\n",
              "<style scoped>\n",
              "    .dataframe tbody tr th:only-of-type {\n",
              "        vertical-align: middle;\n",
              "    }\n",
              "\n",
              "    .dataframe tbody tr th {\n",
              "        vertical-align: top;\n",
              "    }\n",
              "\n",
              "    .dataframe thead th {\n",
              "        text-align: right;\n",
              "    }\n",
              "</style>\n",
              "<table border=\"1\" class=\"dataframe\">\n",
              "  <thead>\n",
              "    <tr style=\"text-align: right;\">\n",
              "      <th></th>\n",
              "      <th>quality</th>\n",
              "      <th>id1</th>\n",
              "      <th>id2</th>\n",
              "      <th>sentence1</th>\n",
              "      <th>sentence2</th>\n",
              "      <th>tokenized_sentence1</th>\n",
              "      <th>tokenized_sentence2</th>\n",
              "    </tr>\n",
              "  </thead>\n",
              "  <tbody>\n",
              "    <tr>\n",
              "      <th>0</th>\n",
              "      <td>1</td>\n",
              "      <td>1089874</td>\n",
              "      <td>1089925</td>\n",
              "      <td>PCCW's chief operating officer, Mike Butcher, ...</td>\n",
              "      <td>Current Chief Operating Officer Mike Butcher a...</td>\n",
              "      <td>[22607, 2273, 2809, 5482, 6009, 22608, 7963, 2...</td>\n",
              "      <td>[22611, 3187, 2814, 4030, 6009, 22612, 10256, ...</td>\n",
              "    </tr>\n",
              "    <tr>\n",
              "      <th>1</th>\n",
              "      <td>1</td>\n",
              "      <td>3019446</td>\n",
              "      <td>3019327</td>\n",
              "      <td>The world's two largest automakers said their ...</td>\n",
              "      <td>Domestic sales at both GM and No. 2 Ford Motor...</td>\n",
              "      <td>[83, 6774, 366, 598, 22614, 166, 203, 146, 132...</td>\n",
              "      <td>[22615, 1327, 71, 1975, 14946, 784, 190, 5604,...</td>\n",
              "    </tr>\n",
              "  </tbody>\n",
              "</table>\n",
              "</div>\n",
              "    <div class=\"colab-df-buttons\">\n",
              "\n",
              "  <div class=\"colab-df-container\">\n",
              "    <button class=\"colab-df-convert\" onclick=\"convertToInteractive('df-38528794-8826-4fe2-83a3-c2765509f572')\"\n",
              "            title=\"Convert this dataframe to an interactive table.\"\n",
              "            style=\"display:none;\">\n",
              "\n",
              "  <svg xmlns=\"http://www.w3.org/2000/svg\" height=\"24px\" viewBox=\"0 -960 960 960\">\n",
              "    <path d=\"M120-120v-720h720v720H120Zm60-500h600v-160H180v160Zm220 220h160v-160H400v160Zm0 220h160v-160H400v160ZM180-400h160v-160H180v160Zm440 0h160v-160H620v160ZM180-180h160v-160H180v160Zm440 0h160v-160H620v160Z\"/>\n",
              "  </svg>\n",
              "    </button>\n",
              "\n",
              "  <style>\n",
              "    .colab-df-container {\n",
              "      display:flex;\n",
              "      gap: 12px;\n",
              "    }\n",
              "\n",
              "    .colab-df-convert {\n",
              "      background-color: #E8F0FE;\n",
              "      border: none;\n",
              "      border-radius: 50%;\n",
              "      cursor: pointer;\n",
              "      display: none;\n",
              "      fill: #1967D2;\n",
              "      height: 32px;\n",
              "      padding: 0 0 0 0;\n",
              "      width: 32px;\n",
              "    }\n",
              "\n",
              "    .colab-df-convert:hover {\n",
              "      background-color: #E2EBFA;\n",
              "      box-shadow: 0px 1px 2px rgba(60, 64, 67, 0.3), 0px 1px 3px 1px rgba(60, 64, 67, 0.15);\n",
              "      fill: #174EA6;\n",
              "    }\n",
              "\n",
              "    .colab-df-buttons div {\n",
              "      margin-bottom: 4px;\n",
              "    }\n",
              "\n",
              "    [theme=dark] .colab-df-convert {\n",
              "      background-color: #3B4455;\n",
              "      fill: #D2E3FC;\n",
              "    }\n",
              "\n",
              "    [theme=dark] .colab-df-convert:hover {\n",
              "      background-color: #434B5C;\n",
              "      box-shadow: 0px 1px 3px 1px rgba(0, 0, 0, 0.15);\n",
              "      filter: drop-shadow(0px 1px 2px rgba(0, 0, 0, 0.3));\n",
              "      fill: #FFFFFF;\n",
              "    }\n",
              "  </style>\n",
              "\n",
              "    <script>\n",
              "      const buttonEl =\n",
              "        document.querySelector('#df-38528794-8826-4fe2-83a3-c2765509f572 button.colab-df-convert');\n",
              "      buttonEl.style.display =\n",
              "        google.colab.kernel.accessAllowed ? 'block' : 'none';\n",
              "\n",
              "      async function convertToInteractive(key) {\n",
              "        const element = document.querySelector('#df-38528794-8826-4fe2-83a3-c2765509f572');\n",
              "        const dataTable =\n",
              "          await google.colab.kernel.invokeFunction('convertToInteractive',\n",
              "                                                    [key], {});\n",
              "        if (!dataTable) return;\n",
              "\n",
              "        const docLinkHtml = 'Like what you see? Visit the ' +\n",
              "          '<a target=\"_blank\" href=https://colab.research.google.com/notebooks/data_table.ipynb>data table notebook</a>'\n",
              "          + ' to learn more about interactive tables.';\n",
              "        element.innerHTML = '';\n",
              "        dataTable['output_type'] = 'display_data';\n",
              "        await google.colab.output.renderOutput(dataTable, element);\n",
              "        const docLink = document.createElement('div');\n",
              "        docLink.innerHTML = docLinkHtml;\n",
              "        element.appendChild(docLink);\n",
              "      }\n",
              "    </script>\n",
              "  </div>\n",
              "\n",
              "\n",
              "<div id=\"df-9eb6e3cd-fa71-4f43-b44c-a85018b79b3d\">\n",
              "  <button class=\"colab-df-quickchart\" onclick=\"quickchart('df-9eb6e3cd-fa71-4f43-b44c-a85018b79b3d')\"\n",
              "            title=\"Suggest charts\"\n",
              "            style=\"display:none;\">\n",
              "\n",
              "<svg xmlns=\"http://www.w3.org/2000/svg\" height=\"24px\"viewBox=\"0 0 24 24\"\n",
              "     width=\"24px\">\n",
              "    <g>\n",
              "        <path d=\"M19 3H5c-1.1 0-2 .9-2 2v14c0 1.1.9 2 2 2h14c1.1 0 2-.9 2-2V5c0-1.1-.9-2-2-2zM9 17H7v-7h2v7zm4 0h-2V7h2v10zm4 0h-2v-4h2v4z\"/>\n",
              "    </g>\n",
              "</svg>\n",
              "  </button>\n",
              "\n",
              "<style>\n",
              "  .colab-df-quickchart {\n",
              "      --bg-color: #E8F0FE;\n",
              "      --fill-color: #1967D2;\n",
              "      --hover-bg-color: #E2EBFA;\n",
              "      --hover-fill-color: #174EA6;\n",
              "      --disabled-fill-color: #AAA;\n",
              "      --disabled-bg-color: #DDD;\n",
              "  }\n",
              "\n",
              "  [theme=dark] .colab-df-quickchart {\n",
              "      --bg-color: #3B4455;\n",
              "      --fill-color: #D2E3FC;\n",
              "      --hover-bg-color: #434B5C;\n",
              "      --hover-fill-color: #FFFFFF;\n",
              "      --disabled-bg-color: #3B4455;\n",
              "      --disabled-fill-color: #666;\n",
              "  }\n",
              "\n",
              "  .colab-df-quickchart {\n",
              "    background-color: var(--bg-color);\n",
              "    border: none;\n",
              "    border-radius: 50%;\n",
              "    cursor: pointer;\n",
              "    display: none;\n",
              "    fill: var(--fill-color);\n",
              "    height: 32px;\n",
              "    padding: 0;\n",
              "    width: 32px;\n",
              "  }\n",
              "\n",
              "  .colab-df-quickchart:hover {\n",
              "    background-color: var(--hover-bg-color);\n",
              "    box-shadow: 0 1px 2px rgba(60, 64, 67, 0.3), 0 1px 3px 1px rgba(60, 64, 67, 0.15);\n",
              "    fill: var(--button-hover-fill-color);\n",
              "  }\n",
              "\n",
              "  .colab-df-quickchart-complete:disabled,\n",
              "  .colab-df-quickchart-complete:disabled:hover {\n",
              "    background-color: var(--disabled-bg-color);\n",
              "    fill: var(--disabled-fill-color);\n",
              "    box-shadow: none;\n",
              "  }\n",
              "\n",
              "  .colab-df-spinner {\n",
              "    border: 2px solid var(--fill-color);\n",
              "    border-color: transparent;\n",
              "    border-bottom-color: var(--fill-color);\n",
              "    animation:\n",
              "      spin 1s steps(1) infinite;\n",
              "  }\n",
              "\n",
              "  @keyframes spin {\n",
              "    0% {\n",
              "      border-color: transparent;\n",
              "      border-bottom-color: var(--fill-color);\n",
              "      border-left-color: var(--fill-color);\n",
              "    }\n",
              "    20% {\n",
              "      border-color: transparent;\n",
              "      border-left-color: var(--fill-color);\n",
              "      border-top-color: var(--fill-color);\n",
              "    }\n",
              "    30% {\n",
              "      border-color: transparent;\n",
              "      border-left-color: var(--fill-color);\n",
              "      border-top-color: var(--fill-color);\n",
              "      border-right-color: var(--fill-color);\n",
              "    }\n",
              "    40% {\n",
              "      border-color: transparent;\n",
              "      border-right-color: var(--fill-color);\n",
              "      border-top-color: var(--fill-color);\n",
              "    }\n",
              "    60% {\n",
              "      border-color: transparent;\n",
              "      border-right-color: var(--fill-color);\n",
              "    }\n",
              "    80% {\n",
              "      border-color: transparent;\n",
              "      border-right-color: var(--fill-color);\n",
              "      border-bottom-color: var(--fill-color);\n",
              "    }\n",
              "    90% {\n",
              "      border-color: transparent;\n",
              "      border-bottom-color: var(--fill-color);\n",
              "    }\n",
              "  }\n",
              "</style>\n",
              "\n",
              "  <script>\n",
              "    async function quickchart(key) {\n",
              "      const quickchartButtonEl =\n",
              "        document.querySelector('#' + key + ' button');\n",
              "      quickchartButtonEl.disabled = true;  // To prevent multiple clicks.\n",
              "      quickchartButtonEl.classList.add('colab-df-spinner');\n",
              "      try {\n",
              "        const charts = await google.colab.kernel.invokeFunction(\n",
              "            'suggestCharts', [key], {});\n",
              "      } catch (error) {\n",
              "        console.error('Error during call to suggestCharts:', error);\n",
              "      }\n",
              "      quickchartButtonEl.classList.remove('colab-df-spinner');\n",
              "      quickchartButtonEl.classList.add('colab-df-quickchart-complete');\n",
              "    }\n",
              "    (() => {\n",
              "      let quickchartButtonEl =\n",
              "        document.querySelector('#df-9eb6e3cd-fa71-4f43-b44c-a85018b79b3d button');\n",
              "      quickchartButtonEl.style.display =\n",
              "        google.colab.kernel.accessAllowed ? 'block' : 'none';\n",
              "    })();\n",
              "  </script>\n",
              "</div>\n",
              "    </div>\n",
              "  </div>\n"
            ]
          },
          "metadata": {},
          "execution_count": 17
        }
      ]
    },
    {
      "cell_type": "code",
      "source": [
        "import itertools\n",
        "from keras.preprocessing.sequence import pad_sequences"
      ],
      "metadata": {
        "id": "4D_YWPBRnQRY"
      },
      "execution_count": null,
      "outputs": []
    },
    {
      "cell_type": "code",
      "source": [
        "# save x and y for each data set with the quality\n",
        "target = 'quality'\n",
        "\n",
        "X_train = {'sentence1': train_df['tokenized_sentence1'],\n",
        "           'sentence2': train_df['tokenized_sentence2']}\n",
        "\n",
        "X_val = {'sentence1': dev_df['tokenized_sentence1'],\n",
        "         'sentence2': dev_df['tokenized_sentence2']}\n",
        "\n",
        "X_test = {'sentence1': test_df['tokenized_sentence1'],\n",
        "          'sentence2': test_df['tokenized_sentence2']}\n",
        "\n",
        "y_train = train_df[target].values\n",
        "y_val = dev_df[target].values\n",
        "y_test = test_df[target].values"
      ],
      "metadata": {
        "id": "FAoNx8UZniYi"
      },
      "execution_count": null,
      "outputs": []
    },
    {
      "cell_type": "code",
      "source": [
        "# zero padding\n",
        "max_len = max(\n",
        "    train_df['tokenized_sentence1'].dropna().map(lambda x: len(x)).max(),\n",
        "    train_df['tokenized_sentence2'].dropna().map(lambda x: len(x)).max(),\n",
        "    dev_df['tokenized_sentence1'].dropna().map(lambda x: len(x)).max(),\n",
        "    dev_df['tokenized_sentence2'].dropna().map(lambda x: len(x)).max(),\n",
        "    test_df['tokenized_sentence1'].dropna().map(lambda x: len(x)).max(),\n",
        "    test_df['tokenized_sentence2'].dropna().map(lambda x: len(x)).max()\n",
        ")\n",
        "\n",
        "\n",
        "print(max_len)\n",
        "print('zero paddings...')\n",
        "\n",
        "for i in range(3576):\n",
        " X_train['sentence1'][i] = pad_sequences([X_train['sentence1'][i]], maxlen=max_len, padding='post', truncating='post')[0]\n",
        " X_train['sentence2'][i] = pad_sequences([X_train['sentence2'][i]], maxlen=max_len, padding='post', truncating='post')[0]\n",
        "for i in range(500):\n",
        "  X_val['sentence1'][i] = pad_sequences([X_val['sentence1'][i]], maxlen=max_len, padding='post', truncating='post')[0]\n",
        "  X_val['sentence2'][i] = pad_sequences([X_val['sentence2'][i]], maxlen=max_len, padding='post', truncating='post')[0]\n",
        "for i in range(1725):\n",
        "  X_test['sentence1'][i] = pad_sequences([X_test['sentence1'][i]], maxlen=max_len, padding='post', truncating='post')[0]\n",
        "  X_test['sentence2'][i] = pad_sequences([X_test['sentence2'][i]], maxlen=max_len, padding='post', truncating='post')[0]"
      ],
      "metadata": {
        "colab": {
          "base_uri": "https://localhost:8080/"
        },
        "id": "yQtbOjHVqBz8",
        "outputId": "437b26a5-6745-486a-e8f0-fb741104d496"
      },
      "execution_count": null,
      "outputs": [
        {
          "output_type": "stream",
          "name": "stdout",
          "text": [
            "30\n",
            "zero paddings...\n"
          ]
        }
      ]
    },
    {
      "cell_type": "code",
      "source": [
        "print(X_test['sentence2'][0])"
      ],
      "metadata": {
        "colab": {
          "base_uri": "https://localhost:8080/"
        },
        "id": "3nVrrJlLv6t6",
        "outputId": "e260efe3-4f91-4f5a-e9a3-e05f7e078535"
      },
      "execution_count": null,
      "outputs": [
        {
          "output_type": "stream",
          "name": "stdout",
          "text": [
            "[22611  3187  2814  4030  6009 22612 10256  3187  1409  4030  7963 22613\n",
            "   299  2362 22610    18     0     0     0     0     0     0     0     0\n",
            "     0     0     0     0     0     0]\n"
          ]
        }
      ]
    },
    {
      "cell_type": "markdown",
      "source": [
        "Save file\n"
      ],
      "metadata": {
        "id": "AHFdGWb8zBdn"
      }
    },
    {
      "cell_type": "code",
      "source": [
        "import pickle\n",
        "import gzip\n",
        "import os"
      ],
      "metadata": {
        "id": "OSG-qzGGzGVM"
      },
      "execution_count": null,
      "outputs": []
    },
    {
      "cell_type": "code",
      "source": [
        "# save results to use in different file\n",
        "def save_as_pickle(data, file_name):\n",
        "    base_path = '/content/drive/MyDrive/Mini-projects'\n",
        "    file_path = os.path.join(base_path, file_name)\n",
        "\n",
        "    with gzip.open(file_path, 'wb') as f:\n",
        "        pickle.dump(data, f)"
      ],
      "metadata": {
        "id": "xNsGMFKVzGy6"
      },
      "execution_count": null,
      "outputs": []
    },
    {
      "cell_type": "code",
      "source": [
        "col = ['quality', 'id1', 'id2', 'sentence1',\n",
        "       'sentence2', 'tokenized_sentence1', 'tokenized_sentence2']\n",
        "\n",
        "save_as_pickle(train_df[col], 'train.pickle')\n",
        "save_as_pickle(dev_df[col], 'val.pickle')\n",
        "save_as_pickle(test_df[col], 'test.pickle')\n",
        "\n",
        "save_as_pickle(embeddings, 'embeddings.pickle')\n",
        "save_as_pickle(voc_dict, 'voc_dict.pickle')"
      ],
      "metadata": {
        "colab": {
          "base_uri": "https://localhost:8080/"
        },
        "id": "1s1v-FEOzJeJ",
        "outputId": "e87aa960-c119-4804-ea29-0f7a40f0f625"
      },
      "execution_count": null,
      "outputs": [
        {
          "output_type": "stream",
          "name": "stdout",
          "text": [
            "save train...\n",
            "save val...\n",
            "save test...\n",
            "save embeddings...\n",
            "save voc_dict...\n"
          ]
        }
      ]
    },
    {
      "cell_type": "code",
      "source": [
        "save_as_pickle(X_train, 'X_train_word.pickle')\n",
        "save_as_pickle(X_val, 'X_val_word.pickle')\n",
        "save_as_pickle(X_test, 'X_test_word.pickle')\n",
        "\n",
        "save_as_pickle(y_train, 'y_train.pickle')\n",
        "save_as_pickle(y_val, 'y_val.pickle')\n",
        "save_as_pickle(y_test, 'y_test.pickle')\n",
        "\n",
        "save_as_pickle(max_len, 'max_len.pickle')"
      ],
      "metadata": {
        "colab": {
          "base_uri": "https://localhost:8080/"
        },
        "id": "QAK3RAipzjjr",
        "outputId": "678eb0c8-aec2-43ca-9fae-490322624bfe"
      },
      "execution_count": null,
      "outputs": [
        {
          "output_type": "stream",
          "name": "stdout",
          "text": [
            "save X_train_word...\n",
            "save X_val_word...\n",
            "save X_test_word...\n",
            "save y_train...\n",
            "save y_val...\n",
            "save y_test...\n",
            "save max_len...\n"
          ]
        }
      ]
    }
  ]
}